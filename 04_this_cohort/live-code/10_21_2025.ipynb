{
 "cells": [
  {
   "cell_type": "code",
   "execution_count": 2,
   "id": "1fe5dbb3",
   "metadata": {},
   "outputs": [
    {
     "data": {
      "text/plain": [
       "[1, 2, 3, 'a', 'b', 'c']"
      ]
     },
     "execution_count": 2,
     "metadata": {},
     "output_type": "execute_result"
    }
   ],
   "source": [
    "characters = [1, 2, 3, 'a', 'b', 'c']\n",
    "characters"
   ]
  },
  {
   "cell_type": "code",
   "execution_count": 3,
   "id": "68b428bd",
   "metadata": {},
   "outputs": [
    {
     "data": {
      "text/plain": [
       "list"
      ]
     },
     "execution_count": 3,
     "metadata": {},
     "output_type": "execute_result"
    }
   ],
   "source": [
    "type(characters)"
   ]
  },
  {
   "cell_type": "code",
   "execution_count": 5,
   "id": "9a576dce",
   "metadata": {},
   "outputs": [
    {
     "data": {
      "text/plain": [
       "['a', 'b', 'c']"
      ]
     },
     "execution_count": 5,
     "metadata": {},
     "output_type": "execute_result"
    }
   ],
   "source": [
    "characters[3:]"
   ]
  },
  {
   "cell_type": "code",
   "execution_count": 6,
   "id": "f68c5f30",
   "metadata": {},
   "outputs": [],
   "source": [
    "julia = ['bread', 'cheese', 'bread']\n",
    "\n",
    "kaylie = julia"
   ]
  },
  {
   "cell_type": "code",
   "execution_count": 7,
   "id": "86532f14",
   "metadata": {},
   "outputs": [],
   "source": [
    "julia[1] = 'tomato'"
   ]
  },
  {
   "cell_type": "code",
   "execution_count": 8,
   "id": "bde64082",
   "metadata": {},
   "outputs": [
    {
     "data": {
      "text/plain": [
       "['bread', 'tomato', 'bread']"
      ]
     },
     "execution_count": 8,
     "metadata": {},
     "output_type": "execute_result"
    }
   ],
   "source": [
    "kaylie"
   ]
  },
  {
   "cell_type": "code",
   "execution_count": 9,
   "id": "eec949ee",
   "metadata": {},
   "outputs": [],
   "source": [
    "breakfast = ['oatmeal', 'eggs', 'toast']\n",
    "breakfast_copy = list(breakfast)"
   ]
  },
  {
   "cell_type": "code",
   "execution_count": 10,
   "id": "8eb32045",
   "metadata": {},
   "outputs": [],
   "source": [
    "breakfast[0] = 'banana bread'"
   ]
  },
  {
   "cell_type": "code",
   "execution_count": 11,
   "id": "503246f4",
   "metadata": {},
   "outputs": [
    {
     "data": {
      "text/plain": [
       "['banana bread', 'eggs', 'toast']"
      ]
     },
     "execution_count": 11,
     "metadata": {},
     "output_type": "execute_result"
    }
   ],
   "source": [
    "breakfast"
   ]
  },
  {
   "cell_type": "code",
   "execution_count": 12,
   "id": "c0087116",
   "metadata": {},
   "outputs": [
    {
     "data": {
      "text/plain": [
       "['oatmeal', 'eggs', 'toast']"
      ]
     },
     "execution_count": 12,
     "metadata": {},
     "output_type": "execute_result"
    }
   ],
   "source": [
    "breakfast_copy"
   ]
  },
  {
   "cell_type": "code",
   "execution_count": 13,
   "id": "3352cfb1",
   "metadata": {},
   "outputs": [
    {
     "data": {
      "text/plain": [
       "3"
      ]
     },
     "execution_count": 13,
     "metadata": {},
     "output_type": "execute_result"
    }
   ],
   "source": [
    "len(breakfast)"
   ]
  },
  {
   "cell_type": "code",
   "execution_count": 14,
   "id": "c7f9c954",
   "metadata": {},
   "outputs": [
    {
     "data": {
      "text/plain": [
       "['banana bread', 'eggs', 'toast']"
      ]
     },
     "execution_count": 14,
     "metadata": {},
     "output_type": "execute_result"
    }
   ],
   "source": [
    "breakfast"
   ]
  },
  {
   "cell_type": "code",
   "execution_count": 15,
   "id": "d81a5b19",
   "metadata": {},
   "outputs": [],
   "source": [
    "breakfast.append('orange juice')"
   ]
  },
  {
   "cell_type": "code",
   "execution_count": 16,
   "id": "6ac66024",
   "metadata": {},
   "outputs": [
    {
     "data": {
      "text/plain": [
       "['banana bread', 'eggs', 'toast', 'orange juice']"
      ]
     },
     "execution_count": 16,
     "metadata": {},
     "output_type": "execute_result"
    }
   ],
   "source": [
    "breakfast"
   ]
  },
  {
   "cell_type": "code",
   "execution_count": 17,
   "id": "502fd6fb",
   "metadata": {},
   "outputs": [],
   "source": [
    "breakfast.extend(['strawberries', 'bacon'])"
   ]
  },
  {
   "cell_type": "code",
   "execution_count": 18,
   "id": "3d83c19a",
   "metadata": {},
   "outputs": [
    {
     "data": {
      "text/plain": [
       "['banana bread', 'eggs', 'toast', 'orange juice', 'strawberries', 'bacon']"
      ]
     },
     "execution_count": 18,
     "metadata": {},
     "output_type": "execute_result"
    }
   ],
   "source": [
    "breakfast"
   ]
  },
  {
   "cell_type": "code",
   "execution_count": 19,
   "id": "a2f472d0",
   "metadata": {},
   "outputs": [],
   "source": [
    "breakfast.insert(4, 'orange')"
   ]
  },
  {
   "cell_type": "code",
   "execution_count": 20,
   "id": "3e4847cd",
   "metadata": {},
   "outputs": [
    {
     "data": {
      "text/plain": [
       "['banana bread',\n",
       " 'eggs',\n",
       " 'toast',\n",
       " 'orange juice',\n",
       " 'orange',\n",
       " 'strawberries',\n",
       " 'bacon']"
      ]
     },
     "execution_count": 20,
     "metadata": {},
     "output_type": "execute_result"
    }
   ],
   "source": [
    "breakfast"
   ]
  },
  {
   "cell_type": "code",
   "execution_count": 21,
   "id": "a674d17c",
   "metadata": {},
   "outputs": [],
   "source": [
    "breakfast.remove('orange juice')"
   ]
  },
  {
   "cell_type": "code",
   "execution_count": 22,
   "id": "42200ff0",
   "metadata": {},
   "outputs": [
    {
     "data": {
      "text/plain": [
       "['banana bread', 'eggs', 'toast', 'orange', 'strawberries', 'bacon']"
      ]
     },
     "execution_count": 22,
     "metadata": {},
     "output_type": "execute_result"
    }
   ],
   "source": [
    "breakfast"
   ]
  },
  {
   "cell_type": "code",
   "execution_count": 23,
   "id": "b5741bab",
   "metadata": {},
   "outputs": [],
   "source": [
    "breakfast.clear()"
   ]
  },
  {
   "cell_type": "code",
   "execution_count": 24,
   "id": "6159c995",
   "metadata": {},
   "outputs": [
    {
     "data": {
      "text/plain": [
       "[]"
      ]
     },
     "execution_count": 24,
     "metadata": {},
     "output_type": "execute_result"
    }
   ],
   "source": [
    "breakfast"
   ]
  },
  {
   "cell_type": "code",
   "execution_count": 25,
   "id": "5f6c88bf",
   "metadata": {},
   "outputs": [],
   "source": [
    "lunch = ['sandwich', 'soup', 'salad']"
   ]
  },
  {
   "cell_type": "code",
   "execution_count": 26,
   "id": "b4768b56",
   "metadata": {},
   "outputs": [
    {
     "data": {
      "text/plain": [
       "['sandwich', 'soup', 'salad']"
      ]
     },
     "execution_count": 26,
     "metadata": {},
     "output_type": "execute_result"
    }
   ],
   "source": [
    "lunch"
   ]
  },
  {
   "cell_type": "code",
   "execution_count": 27,
   "id": "1d423754",
   "metadata": {},
   "outputs": [
    {
     "data": {
      "text/plain": [
       "'sandwich'"
      ]
     },
     "execution_count": 27,
     "metadata": {},
     "output_type": "execute_result"
    }
   ],
   "source": [
    "lunch[0]"
   ]
  },
  {
   "cell_type": "code",
   "execution_count": 29,
   "id": "244e4797",
   "metadata": {},
   "outputs": [
    {
     "data": {
      "text/plain": [
       "['pineapple', 'apple', 'kiwi', 'banana']"
      ]
     },
     "execution_count": 29,
     "metadata": {},
     "output_type": "execute_result"
    }
   ],
   "source": [
    "fruits = ['pineapple', 'apple', 'kiwi', 'banana']\n",
    "fruits"
   ]
  },
  {
   "cell_type": "code",
   "execution_count": 30,
   "id": "df86b060",
   "metadata": {},
   "outputs": [],
   "source": [
    "fruits.sort()"
   ]
  },
  {
   "cell_type": "code",
   "execution_count": 31,
   "id": "2e833d35",
   "metadata": {},
   "outputs": [
    {
     "data": {
      "text/plain": [
       "['apple', 'banana', 'kiwi', 'pineapple']"
      ]
     },
     "execution_count": 31,
     "metadata": {},
     "output_type": "execute_result"
    }
   ],
   "source": [
    "fruits"
   ]
  },
  {
   "cell_type": "code",
   "execution_count": 32,
   "id": "3d487ed3",
   "metadata": {},
   "outputs": [
    {
     "data": {
      "text/plain": [
       "['potato', 'celery', 'cabbage', 'bell pepper', 'onion']"
      ]
     },
     "execution_count": 32,
     "metadata": {},
     "output_type": "execute_result"
    }
   ],
   "source": [
    "veggies = ['potato', 'celery', 'cabbage', 'bell pepper', 'onion']\n",
    "veggies"
   ]
  },
  {
   "cell_type": "code",
   "execution_count": 33,
   "id": "810fb4ff",
   "metadata": {},
   "outputs": [
    {
     "data": {
      "text/plain": [
       "['bell pepper', 'cabbage', 'celery', 'onion', 'potato']"
      ]
     },
     "execution_count": 33,
     "metadata": {},
     "output_type": "execute_result"
    }
   ],
   "source": [
    "sorted(veggies)"
   ]
  },
  {
   "cell_type": "code",
   "execution_count": 34,
   "id": "08e616a9",
   "metadata": {},
   "outputs": [
    {
     "data": {
      "text/plain": [
       "['potato', 'celery', 'cabbage', 'bell pepper', 'onion']"
      ]
     },
     "execution_count": 34,
     "metadata": {},
     "output_type": "execute_result"
    }
   ],
   "source": [
    "veggies"
   ]
  },
  {
   "cell_type": "code",
   "execution_count": 44,
   "id": "5f201fe6",
   "metadata": {},
   "outputs": [
    {
     "data": {
      "text/plain": [
       "['c', 'b', '1', 'a']"
      ]
     },
     "execution_count": 44,
     "metadata": {},
     "output_type": "execute_result"
    }
   ],
   "source": [
    "list_example = ['c', 'b', '1', 'a']\n",
    "list_example"
   ]
  },
  {
   "cell_type": "code",
   "execution_count": 45,
   "id": "9ebadc18",
   "metadata": {},
   "outputs": [
    {
     "data": {
      "text/plain": [
       "['1', 'a', 'b', 'c']"
      ]
     },
     "execution_count": 45,
     "metadata": {},
     "output_type": "execute_result"
    }
   ],
   "source": [
    "sorted(list_example)"
   ]
  },
  {
   "cell_type": "code",
   "execution_count": 42,
   "id": "e499c826",
   "metadata": {},
   "outputs": [
    {
     "data": {
      "text/plain": [
       "['Banana', 'apple', 'Apple']"
      ]
     },
     "execution_count": 42,
     "metadata": {},
     "output_type": "execute_result"
    }
   ],
   "source": [
    "list_example2 = ['Banana', 'apple', 'Apple']\n",
    "list_example2"
   ]
  },
  {
   "cell_type": "code",
   "execution_count": null,
   "id": "33e6560c",
   "metadata": {},
   "outputs": [
    {
     "data": {
      "text/plain": [
       "['Apple', 'Banana', 'apple']"
      ]
     },
     "execution_count": 43,
     "metadata": {},
     "output_type": "execute_result"
    }
   ],
   "source": [
    "sorted(list_example2)\n",
    "\n",
    "# A -> 65\n",
    "# a -> 97"
   ]
  },
  {
   "cell_type": "code",
   "execution_count": 46,
   "id": "aef1a4d7",
   "metadata": {},
   "outputs": [
    {
     "data": {
      "text/plain": [
       "[10, 5, 8, 3]"
      ]
     },
     "execution_count": 46,
     "metadata": {},
     "output_type": "execute_result"
    }
   ],
   "source": [
    "list_int = [10, 5, 8, 3]\n",
    "list_int"
   ]
  },
  {
   "cell_type": "code",
   "execution_count": 47,
   "id": "29f77c10",
   "metadata": {},
   "outputs": [
    {
     "data": {
      "text/plain": [
       "[3, 5, 8, 10]"
      ]
     },
     "execution_count": 47,
     "metadata": {},
     "output_type": "execute_result"
    }
   ],
   "source": [
    "sorted(list_int)"
   ]
  },
  {
   "cell_type": "code",
   "execution_count": 48,
   "id": "524a1b9e",
   "metadata": {},
   "outputs": [
    {
     "data": {
      "text/plain": [
       "['potato', 'celery', 'cabbage', 'bell pepper', 'onion']"
      ]
     },
     "execution_count": 48,
     "metadata": {},
     "output_type": "execute_result"
    }
   ],
   "source": [
    "veggies"
   ]
  },
  {
   "cell_type": "code",
   "execution_count": 49,
   "id": "21924521",
   "metadata": {},
   "outputs": [
    {
     "data": {
      "text/plain": [
       "['bell pepper', 'cabbage', 'celery', 'onion', 'potato']"
      ]
     },
     "execution_count": 49,
     "metadata": {},
     "output_type": "execute_result"
    }
   ],
   "source": [
    "sorted(veggies)"
   ]
  },
  {
   "cell_type": "code",
   "execution_count": 50,
   "id": "a9560cd9",
   "metadata": {},
   "outputs": [],
   "source": [
    "def last_letter(text):\n",
    "    return text[-1]"
   ]
  },
  {
   "cell_type": "code",
   "execution_count": 51,
   "id": "4c2a5637",
   "metadata": {},
   "outputs": [
    {
     "data": {
      "text/plain": [
       "['cabbage', 'onion', 'potato', 'bell pepper', 'celery']"
      ]
     },
     "execution_count": 51,
     "metadata": {},
     "output_type": "execute_result"
    }
   ],
   "source": [
    "sorted(veggies, key=last_letter)"
   ]
  },
  {
   "cell_type": "code",
   "execution_count": 52,
   "id": "583626b5",
   "metadata": {},
   "outputs": [],
   "source": [
    "students_per_class = [['Grade 9', 20], ['Grade 10', 17], ['Grade 11', 13], ['Grade 12', 22]]"
   ]
  },
  {
   "cell_type": "code",
   "execution_count": 53,
   "id": "9385ebf3",
   "metadata": {},
   "outputs": [],
   "source": [
    "def second_element(item):\n",
    "    return item[1]"
   ]
  },
  {
   "cell_type": "code",
   "execution_count": 54,
   "id": "af59085b",
   "metadata": {},
   "outputs": [],
   "source": [
    "students_per_class.sort(key=second_element)"
   ]
  },
  {
   "cell_type": "code",
   "execution_count": 55,
   "id": "3763ddfa",
   "metadata": {},
   "outputs": [
    {
     "data": {
      "text/plain": [
       "[['Grade 11', 13], ['Grade 10', 17], ['Grade 9', 20], ['Grade 12', 22]]"
      ]
     },
     "execution_count": 55,
     "metadata": {},
     "output_type": "execute_result"
    }
   ],
   "source": [
    "students_per_class"
   ]
  },
  {
   "cell_type": "code",
   "execution_count": 56,
   "id": "fc190bfa",
   "metadata": {},
   "outputs": [
    {
     "data": {
      "text/plain": [
       "5"
      ]
     },
     "execution_count": 56,
     "metadata": {},
     "output_type": "execute_result"
    }
   ],
   "source": [
    "second_element([0, 5, 7])"
   ]
  },
  {
   "cell_type": "code",
   "execution_count": 57,
   "id": "cdf7a549",
   "metadata": {},
   "outputs": [],
   "source": [
    "mutable_synonyms = ('changeable', 'fluctuating', 'inconstant', 'variable')"
   ]
  },
  {
   "cell_type": "code",
   "execution_count": 60,
   "id": "f26e3719",
   "metadata": {},
   "outputs": [
    {
     "data": {
      "text/plain": [
       "tuple"
      ]
     },
     "execution_count": 60,
     "metadata": {},
     "output_type": "execute_result"
    }
   ],
   "source": [
    "empty_tuple1 = ()\n",
    "type(empty_tuple1)"
   ]
  },
  {
   "cell_type": "code",
   "execution_count": 61,
   "id": "17e311c7",
   "metadata": {},
   "outputs": [
    {
     "data": {
      "text/plain": [
       "tuple"
      ]
     },
     "execution_count": 61,
     "metadata": {},
     "output_type": "execute_result"
    }
   ],
   "source": [
    "empty_tuple2 = tuple()\n",
    "type(empty_tuple2)"
   ]
  },
  {
   "cell_type": "code",
   "execution_count": 62,
   "id": "411429ea",
   "metadata": {},
   "outputs": [
    {
     "ename": "AttributeError",
     "evalue": "'tuple' object has no attribute 'append'",
     "output_type": "error",
     "traceback": [
      "\u001b[31m---------------------------------------------------------------------------\u001b[39m",
      "\u001b[31mAttributeError\u001b[39m                            Traceback (most recent call last)",
      "\u001b[36mCell\u001b[39m\u001b[36m \u001b[39m\u001b[32mIn[62]\u001b[39m\u001b[32m, line 1\u001b[39m\n\u001b[32m----> \u001b[39m\u001b[32m1\u001b[39m \u001b[43mempty_tuple1\u001b[49m\u001b[43m.\u001b[49m\u001b[43mappend\u001b[49m(\u001b[33m'\u001b[39m\u001b[33mhi\u001b[39m\u001b[33m'\u001b[39m)\n",
      "\u001b[31mAttributeError\u001b[39m: 'tuple' object has no attribute 'append'"
     ]
    }
   ],
   "source": [
    "empty_tuple1.append('hi')"
   ]
  },
  {
   "cell_type": "code",
   "execution_count": 63,
   "id": "428e4218",
   "metadata": {},
   "outputs": [
    {
     "data": {
      "text/plain": [
       "4"
      ]
     },
     "execution_count": 63,
     "metadata": {},
     "output_type": "execute_result"
    }
   ],
   "source": [
    "len(mutable_synonyms)"
   ]
  },
  {
   "cell_type": "code",
   "execution_count": 64,
   "id": "b7b13e40",
   "metadata": {},
   "outputs": [
    {
     "data": {
      "text/plain": [
       "('changeable', 'fluctuating', 'inconstant', 'variable')"
      ]
     },
     "execution_count": 64,
     "metadata": {},
     "output_type": "execute_result"
    }
   ],
   "source": [
    "mutable_synonyms"
   ]
  },
  {
   "cell_type": "code",
   "execution_count": 65,
   "id": "bf8f3446",
   "metadata": {},
   "outputs": [
    {
     "data": {
      "text/plain": [
       "['changeable', 'fluctuating', 'inconstant', 'variable']"
      ]
     },
     "execution_count": 65,
     "metadata": {},
     "output_type": "execute_result"
    }
   ],
   "source": [
    "sorted(mutable_synonyms)"
   ]
  },
  {
   "cell_type": "code",
   "execution_count": 66,
   "id": "ec13e732",
   "metadata": {},
   "outputs": [
    {
     "data": {
      "text/plain": [
       "('changeable', 'fluctuating', 'inconstant', 'variable')"
      ]
     },
     "execution_count": 66,
     "metadata": {},
     "output_type": "execute_result"
    }
   ],
   "source": [
    "mutable_synonyms"
   ]
  },
  {
   "cell_type": "code",
   "execution_count": 67,
   "id": "299d906b",
   "metadata": {},
   "outputs": [
    {
     "data": {
      "text/plain": [
       "('changeable',\n",
       " 'fluctuating',\n",
       " 'inconstant',\n",
       " 'variable',\n",
       " 'modifiable',\n",
       " 'shifting')"
      ]
     },
     "execution_count": 67,
     "metadata": {},
     "output_type": "execute_result"
    }
   ],
   "source": [
    "mutable_synonyms + ('modifiable', 'shifting')"
   ]
  },
  {
   "cell_type": "code",
   "execution_count": 68,
   "id": "0267a1c0",
   "metadata": {},
   "outputs": [
    {
     "data": {
      "text/plain": [
       "('changeable', 'fluctuating', 'inconstant', 'variable')"
      ]
     },
     "execution_count": 68,
     "metadata": {},
     "output_type": "execute_result"
    }
   ],
   "source": [
    "mutable_synonyms"
   ]
  },
  {
   "cell_type": "code",
   "execution_count": 69,
   "id": "f266f1e4",
   "metadata": {},
   "outputs": [
    {
     "ename": "AttributeError",
     "evalue": "'tuple' object has no attribute 'sort'",
     "output_type": "error",
     "traceback": [
      "\u001b[31m---------------------------------------------------------------------------\u001b[39m",
      "\u001b[31mAttributeError\u001b[39m                            Traceback (most recent call last)",
      "\u001b[36mCell\u001b[39m\u001b[36m \u001b[39m\u001b[32mIn[69]\u001b[39m\u001b[32m, line 1\u001b[39m\n\u001b[32m----> \u001b[39m\u001b[32m1\u001b[39m \u001b[43mmutable_synonyms\u001b[49m\u001b[43m.\u001b[49m\u001b[43msort\u001b[49m()\n",
      "\u001b[31mAttributeError\u001b[39m: 'tuple' object has no attribute 'sort'"
     ]
    }
   ],
   "source": [
    "mutable_synonyms.sort()"
   ]
  },
  {
   "cell_type": "code",
   "execution_count": null,
   "id": "018b9b10",
   "metadata": {},
   "outputs": [],
   "source": [
    "# set is mutable\n",
    "# set is unordered and distinct"
   ]
  },
  {
   "cell_type": "code",
   "execution_count": 70,
   "id": "c449da95",
   "metadata": {},
   "outputs": [
    {
     "data": {
      "text/plain": [
       "{'apple', 'book', 'box', 'coat', 'hair', 'lock', 'xylophone'}"
      ]
     },
     "execution_count": 70,
     "metadata": {},
     "output_type": "execute_result"
    }
   ],
   "source": [
    "things = {'coat', 'lock', 'box', 'book', 'apple', 'hair', 'xylophone', 'lock', 'book'}\n",
    "things"
   ]
  },
  {
   "cell_type": "code",
   "execution_count": 71,
   "id": "d6d0c45d",
   "metadata": {},
   "outputs": [
    {
     "data": {
      "text/plain": [
       "set"
      ]
     },
     "execution_count": 71,
     "metadata": {},
     "output_type": "execute_result"
    }
   ],
   "source": [
    "type(things)"
   ]
  },
  {
   "cell_type": "code",
   "execution_count": 72,
   "id": "4a7f4d40",
   "metadata": {},
   "outputs": [],
   "source": [
    "visitor_post_codes = ['M5R', 'M5V', 'M1M', 'M1M', 'M1T']"
   ]
  },
  {
   "cell_type": "code",
   "execution_count": 73,
   "id": "3b0a260d",
   "metadata": {},
   "outputs": [
    {
     "data": {
      "text/plain": [
       "{'M1M', 'M1T', 'M5R', 'M5V'}"
      ]
     },
     "execution_count": 73,
     "metadata": {},
     "output_type": "execute_result"
    }
   ],
   "source": [
    "set(visitor_post_codes)"
   ]
  },
  {
   "cell_type": "code",
   "execution_count": null,
   "id": "43f35cc9",
   "metadata": {},
   "outputs": [
    {
     "data": {
      "text/plain": [
       "set"
      ]
     },
     "execution_count": 75,
     "metadata": {},
     "output_type": "execute_result"
    }
   ],
   "source": [
    "empty_set = set() # {} is a dictionary\n",
    "type(empty_set)"
   ]
  },
  {
   "cell_type": "code",
   "execution_count": 76,
   "id": "ef808281",
   "metadata": {},
   "outputs": [
    {
     "data": {
      "text/plain": [
       "{'apple', 'book', 'box', 'coat', 'hair', 'lock', 'xylophone'}"
      ]
     },
     "execution_count": 76,
     "metadata": {},
     "output_type": "execute_result"
    }
   ],
   "source": [
    "things"
   ]
  },
  {
   "cell_type": "code",
   "execution_count": 77,
   "id": "32c819a1",
   "metadata": {},
   "outputs": [
    {
     "data": {
      "text/plain": [
       "{'apple', 'book', 'box', 'coat', 'hair', 'lock', 'xylophone'}"
      ]
     },
     "execution_count": 77,
     "metadata": {},
     "output_type": "execute_result"
    }
   ],
   "source": [
    "things.add('lock')\n",
    "things"
   ]
  },
  {
   "cell_type": "code",
   "execution_count": 78,
   "id": "e05937e2",
   "metadata": {},
   "outputs": [],
   "source": [
    "things.add('mirror')"
   ]
  },
  {
   "cell_type": "code",
   "execution_count": 79,
   "id": "bf601b55",
   "metadata": {},
   "outputs": [
    {
     "data": {
      "text/plain": [
       "{'apple', 'book', 'box', 'coat', 'hair', 'lock', 'mirror', 'xylophone'}"
      ]
     },
     "execution_count": 79,
     "metadata": {},
     "output_type": "execute_result"
    }
   ],
   "source": [
    "things"
   ]
  },
  {
   "cell_type": "code",
   "execution_count": 80,
   "id": "472f46a4",
   "metadata": {},
   "outputs": [
    {
     "data": {
      "text/plain": [
       "{'book', 'box', 'coat', 'hair', 'lock', 'mirror', 'xylophone'}"
      ]
     },
     "execution_count": 80,
     "metadata": {},
     "output_type": "execute_result"
    }
   ],
   "source": [
    "things.remove('apple')\n",
    "things"
   ]
  },
  {
   "cell_type": "code",
   "execution_count": 81,
   "id": "3f50752a",
   "metadata": {},
   "outputs": [
    {
     "ename": "TypeError",
     "evalue": "'set' object is not subscriptable",
     "output_type": "error",
     "traceback": [
      "\u001b[31m---------------------------------------------------------------------------\u001b[39m",
      "\u001b[31mTypeError\u001b[39m                                 Traceback (most recent call last)",
      "\u001b[36mCell\u001b[39m\u001b[36m \u001b[39m\u001b[32mIn[81]\u001b[39m\u001b[32m, line 1\u001b[39m\n\u001b[32m----> \u001b[39m\u001b[32m1\u001b[39m \u001b[43mthings\u001b[49m\u001b[43m[\u001b[49m\u001b[32;43m1\u001b[39;49m\u001b[43m]\u001b[49m\n",
      "\u001b[31mTypeError\u001b[39m: 'set' object is not subscriptable"
     ]
    }
   ],
   "source": [
    "things[1]"
   ]
  },
  {
   "cell_type": "code",
   "execution_count": 82,
   "id": "9e144dce",
   "metadata": {},
   "outputs": [],
   "source": [
    "rainbow = {'red', 'orange', 'yellow', 'green', 'blue', 'indigo', 'violet'}\n",
    "olympic_flag = {'red', 'green', 'yellow', 'blue', 'black'}"
   ]
  },
  {
   "cell_type": "code",
   "execution_count": null,
   "id": "6332d7e1",
   "metadata": {},
   "outputs": [
    {
     "data": {
      "text/plain": [
       "{'indigo', 'orange', 'violet'}"
      ]
     },
     "execution_count": 83,
     "metadata": {},
     "output_type": "execute_result"
    }
   ],
   "source": [
    "# difference: find the values in the first set that are not in the second set\n",
    "\n",
    "# looking for values that rainbow has, that olympic_flag does not\n",
    "rainbow.difference(olympic_flag)"
   ]
  },
  {
   "cell_type": "code",
   "execution_count": null,
   "id": "e0ae3719",
   "metadata": {},
   "outputs": [
    {
     "data": {
      "text/plain": [
       "{'black'}"
      ]
     },
     "execution_count": 84,
     "metadata": {},
     "output_type": "execute_result"
    }
   ],
   "source": [
    "# looking for values that olympic_flag has, that rainbow does not\n",
    "olympic_flag.difference(rainbow)"
   ]
  },
  {
   "cell_type": "code",
   "execution_count": 85,
   "id": "dab55218",
   "metadata": {},
   "outputs": [
    {
     "data": {
      "text/plain": [
       "{'black', 'indigo', 'orange', 'violet'}"
      ]
     },
     "execution_count": 85,
     "metadata": {},
     "output_type": "execute_result"
    }
   ],
   "source": [
    "# symmetric difference find the values that are in only one of two sets\n",
    "\n",
    "rainbow.symmetric_difference(olympic_flag)"
   ]
  },
  {
   "cell_type": "code",
   "execution_count": 87,
   "id": "5f27bec4",
   "metadata": {},
   "outputs": [
    {
     "data": {
      "text/plain": [
       "{'blue', 'green', 'indigo', 'orange', 'red', 'violet', 'yellow'}"
      ]
     },
     "execution_count": 87,
     "metadata": {},
     "output_type": "execute_result"
    }
   ],
   "source": [
    "rainbow"
   ]
  },
  {
   "cell_type": "code",
   "execution_count": 88,
   "id": "ec07e1ba",
   "metadata": {},
   "outputs": [
    {
     "data": {
      "text/plain": [
       "{'black', 'blue', 'green', 'red', 'yellow'}"
      ]
     },
     "execution_count": 88,
     "metadata": {},
     "output_type": "execute_result"
    }
   ],
   "source": [
    "olympic_flag"
   ]
  },
  {
   "cell_type": "code",
   "execution_count": 86,
   "id": "d9ba1a03",
   "metadata": {},
   "outputs": [
    {
     "data": {
      "text/plain": [
       "{'blue', 'green', 'red', 'yellow'}"
      ]
     },
     "execution_count": 86,
     "metadata": {},
     "output_type": "execute_result"
    }
   ],
   "source": [
    "# intersection -> find the values two sets have in common\n",
    "\n",
    "rainbow.intersection(olympic_flag)"
   ]
  },
  {
   "cell_type": "code",
   "execution_count": 89,
   "id": "9801bd26",
   "metadata": {},
   "outputs": [
    {
     "data": {
      "text/plain": [
       "{'black', 'blue', 'green', 'indigo', 'orange', 'red', 'violet', 'yellow'}"
      ]
     },
     "execution_count": 89,
     "metadata": {},
     "output_type": "execute_result"
    }
   ],
   "source": [
    "# union combine two sets to get the unique values in both\n",
    "\n",
    "rainbow.union(olympic_flag)"
   ]
  },
  {
   "cell_type": "code",
   "execution_count": 90,
   "id": "6cda2a4c",
   "metadata": {},
   "outputs": [
    {
     "data": {
      "text/plain": [
       "{'yellow'}"
      ]
     },
     "execution_count": 90,
     "metadata": {},
     "output_type": "execute_result"
    }
   ],
   "source": [
    "rainbow.intersection(olympic_flag, {'pink', 'puple', 'yellow'})"
   ]
  },
  {
   "cell_type": "code",
   "execution_count": null,
   "id": "08ce43f5",
   "metadata": {},
   "outputs": [],
   "source": [
    "# dictionary -> ordered and mutable\n",
    "\n",
    "# key:value pair\n",
    "# ordered and mutable\n",
    "# every key is unique, keys can be any immutable data type\n",
    "# values can be any data type"
   ]
  },
  {
   "cell_type": "code",
   "execution_count": 92,
   "id": "1b2058af",
   "metadata": {},
   "outputs": [
    {
     "data": {
      "text/plain": [
       "dict"
      ]
     },
     "execution_count": 92,
     "metadata": {},
     "output_type": "execute_result"
    }
   ],
   "source": [
    "capitals = {'Canada': 'Ottawa',\n",
    "            'Mexico': 'Mexico City'}\n",
    "type(capitals)"
   ]
  },
  {
   "cell_type": "code",
   "execution_count": 93,
   "id": "bea86f38",
   "metadata": {},
   "outputs": [
    {
     "data": {
      "text/plain": [
       "{2020: 'Tokyo', 2016: 'Rio de Janiero', 2012: 'London'}"
      ]
     },
     "execution_count": 93,
     "metadata": {},
     "output_type": "execute_result"
    }
   ],
   "source": [
    "olympic_cities = {2020: 'Tokyo', 2016: 'Rio de Janiero', 2012: 'London'}\n",
    "olympic_cities"
   ]
  },
  {
   "cell_type": "code",
   "execution_count": 95,
   "id": "253afc7c",
   "metadata": {},
   "outputs": [
    {
     "data": {
      "text/plain": [
       "{'summer': {2020: 'Tokyo', 2016: 'Rio de Janiero', 2012: 'London'},\n",
       " 'winter': {2022: 'Beijing', 2018: 'Pyeongchang'}}"
      ]
     },
     "execution_count": 95,
     "metadata": {},
     "output_type": "execute_result"
    }
   ],
   "source": [
    "# we can nest dictionaries within dictionaries\n",
    "\n",
    "all_olympic_hosts = {'summer': olympic_cities,\n",
    "                     'winter': {2022: 'Beijing', 2018: 'Pyeongchang'}}\n",
    "all_olympic_hosts"
   ]
  },
  {
   "cell_type": "code",
   "execution_count": 96,
   "id": "2d1d438d",
   "metadata": {},
   "outputs": [
    {
     "data": {
      "text/plain": [
       "dict"
      ]
     },
     "execution_count": 96,
     "metadata": {},
     "output_type": "execute_result"
    }
   ],
   "source": [
    "empty_dictionary1 = {}\n",
    "type(empty_dictionary1)"
   ]
  },
  {
   "cell_type": "code",
   "execution_count": 97,
   "id": "20999b83",
   "metadata": {},
   "outputs": [
    {
     "data": {
      "text/plain": [
       "dict"
      ]
     },
     "execution_count": 97,
     "metadata": {},
     "output_type": "execute_result"
    }
   ],
   "source": [
    "empty_dictionary2 = dict()\n",
    "type(empty_dictionary2)"
   ]
  },
  {
   "cell_type": "code",
   "execution_count": 98,
   "id": "3f5a2a42",
   "metadata": {},
   "outputs": [
    {
     "data": {
      "text/plain": [
       "{2020: 'Tokyo', 2016: 'Rio de Janiero', 2012: 'London'}"
      ]
     },
     "execution_count": 98,
     "metadata": {},
     "output_type": "execute_result"
    }
   ],
   "source": [
    "olympic_cities"
   ]
  },
  {
   "cell_type": "code",
   "execution_count": 99,
   "id": "369ffb81",
   "metadata": {},
   "outputs": [
    {
     "data": {
      "text/plain": [
       "'Tokyo'"
      ]
     },
     "execution_count": 99,
     "metadata": {},
     "output_type": "execute_result"
    }
   ],
   "source": [
    "olympic_cities[2020]"
   ]
  },
  {
   "cell_type": "code",
   "execution_count": 100,
   "id": "ce2aa15f",
   "metadata": {},
   "outputs": [
    {
     "data": {
      "text/plain": [
       "'London'"
      ]
     },
     "execution_count": 100,
     "metadata": {},
     "output_type": "execute_result"
    }
   ],
   "source": [
    "olympic_cities[2012]"
   ]
  },
  {
   "cell_type": "code",
   "execution_count": 101,
   "id": "e332c24e",
   "metadata": {},
   "outputs": [
    {
     "data": {
      "text/plain": [
       "{'summer': {2020: 'Tokyo', 2016: 'Rio de Janiero', 2012: 'London'},\n",
       " 'winter': {2022: 'Beijing', 2018: 'Pyeongchang'}}"
      ]
     },
     "execution_count": 101,
     "metadata": {},
     "output_type": "execute_result"
    }
   ],
   "source": [
    "all_olympic_hosts"
   ]
  },
  {
   "cell_type": "code",
   "execution_count": 102,
   "id": "01ed81af",
   "metadata": {},
   "outputs": [
    {
     "data": {
      "text/plain": [
       "{2020: 'Tokyo', 2016: 'Rio de Janiero', 2012: 'London'}"
      ]
     },
     "execution_count": 102,
     "metadata": {},
     "output_type": "execute_result"
    }
   ],
   "source": [
    "all_olympic_hosts['summer']"
   ]
  },
  {
   "cell_type": "code",
   "execution_count": 104,
   "id": "7e6d0f39",
   "metadata": {},
   "outputs": [
    {
     "data": {
      "text/plain": [
       "'Rio de Janiero'"
      ]
     },
     "execution_count": 104,
     "metadata": {},
     "output_type": "execute_result"
    }
   ],
   "source": [
    "# accessing nested values by chaining together bracket selections\n",
    "all_olympic_hosts['summer'][2016] "
   ]
  },
  {
   "cell_type": "code",
   "execution_count": 105,
   "id": "20955afc",
   "metadata": {},
   "outputs": [
    {
     "data": {
      "text/plain": [
       "{2022: 'Beijing', 2018: 'Pyeongchang'}"
      ]
     },
     "execution_count": 105,
     "metadata": {},
     "output_type": "execute_result"
    }
   ],
   "source": [
    "all_olympic_hosts['winter']"
   ]
  },
  {
   "cell_type": "code",
   "execution_count": 107,
   "id": "8ad91b97",
   "metadata": {},
   "outputs": [
    {
     "data": {
      "text/plain": [
       "'Pyeongchang'"
      ]
     },
     "execution_count": 107,
     "metadata": {},
     "output_type": "execute_result"
    }
   ],
   "source": [
    "all_olympic_hosts['winter'][2018]"
   ]
  },
  {
   "cell_type": "code",
   "execution_count": 108,
   "id": "31b97b2e",
   "metadata": {},
   "outputs": [
    {
     "data": {
      "text/plain": [
       "{2020: 'Tokyo', 2016: 'Rio de Janiero', 2012: 'London'}"
      ]
     },
     "execution_count": 108,
     "metadata": {},
     "output_type": "execute_result"
    }
   ],
   "source": [
    "olympic_cities"
   ]
  },
  {
   "cell_type": "code",
   "execution_count": 109,
   "id": "a561776b",
   "metadata": {},
   "outputs": [
    {
     "ename": "KeyError",
     "evalue": "2014",
     "output_type": "error",
     "traceback": [
      "\u001b[31m---------------------------------------------------------------------------\u001b[39m",
      "\u001b[31mKeyError\u001b[39m                                  Traceback (most recent call last)",
      "\u001b[36mCell\u001b[39m\u001b[36m \u001b[39m\u001b[32mIn[109]\u001b[39m\u001b[32m, line 1\u001b[39m\n\u001b[32m----> \u001b[39m\u001b[32m1\u001b[39m \u001b[43molympic_cities\u001b[49m\u001b[43m[\u001b[49m\u001b[32;43m2014\u001b[39;49m\u001b[43m]\u001b[49m\n",
      "\u001b[31mKeyError\u001b[39m: 2014"
     ]
    }
   ],
   "source": [
    "olympic_cities[2014]"
   ]
  },
  {
   "cell_type": "code",
   "execution_count": 110,
   "id": "f85ba4c0",
   "metadata": {},
   "outputs": [
    {
     "data": {
      "text/plain": [
       "{2020: 'Tokyo', 2016: 'Rio de Janiero', 2012: 'London'}"
      ]
     },
     "execution_count": 110,
     "metadata": {},
     "output_type": "execute_result"
    }
   ],
   "source": [
    "olympic_cities"
   ]
  },
  {
   "cell_type": "code",
   "execution_count": 112,
   "id": "dc6ae038",
   "metadata": {},
   "outputs": [
    {
     "data": {
      "text/plain": [
       "'Athens'"
      ]
     },
     "execution_count": 112,
     "metadata": {},
     "output_type": "execute_result"
    }
   ],
   "source": [
    "olympic_cities.get(2004, 'Athens')"
   ]
  },
  {
   "cell_type": "code",
   "execution_count": 114,
   "id": "ee4beb49",
   "metadata": {},
   "outputs": [],
   "source": [
    "olympic_cities.get(2004)"
   ]
  },
  {
   "cell_type": "code",
   "execution_count": 113,
   "id": "cec5014f",
   "metadata": {},
   "outputs": [
    {
     "ename": "KeyError",
     "evalue": "2004",
     "output_type": "error",
     "traceback": [
      "\u001b[31m---------------------------------------------------------------------------\u001b[39m",
      "\u001b[31mKeyError\u001b[39m                                  Traceback (most recent call last)",
      "\u001b[36mCell\u001b[39m\u001b[36m \u001b[39m\u001b[32mIn[113]\u001b[39m\u001b[32m, line 1\u001b[39m\n\u001b[32m----> \u001b[39m\u001b[32m1\u001b[39m \u001b[43molympic_cities\u001b[49m\u001b[43m[\u001b[49m\u001b[32;43m2004\u001b[39;49m\u001b[43m]\u001b[49m\n",
      "\u001b[31mKeyError\u001b[39m: 2004"
     ]
    }
   ],
   "source": [
    "olympic_cities[2004]"
   ]
  },
  {
   "cell_type": "code",
   "execution_count": 115,
   "id": "66a27c26",
   "metadata": {},
   "outputs": [
    {
     "data": {
      "text/plain": [
       "{2020: 'Tokyo', 2016: 'Rio de Janiero', 2012: 'London'}"
      ]
     },
     "execution_count": 115,
     "metadata": {},
     "output_type": "execute_result"
    }
   ],
   "source": [
    "olympic_cities"
   ]
  },
  {
   "cell_type": "code",
   "execution_count": 117,
   "id": "a9e5e3d6",
   "metadata": {},
   "outputs": [],
   "source": [
    "olympic_cities[2008] = 'Barcelona'"
   ]
  },
  {
   "cell_type": "code",
   "execution_count": 118,
   "id": "2f98b6c1",
   "metadata": {},
   "outputs": [
    {
     "data": {
      "text/plain": [
       "{2020: 'Tokyo', 2016: 'Rio de Janiero', 2012: 'London', 2008: 'Barcelona'}"
      ]
     },
     "execution_count": 118,
     "metadata": {},
     "output_type": "execute_result"
    }
   ],
   "source": [
    "olympic_cities"
   ]
  },
  {
   "cell_type": "code",
   "execution_count": 119,
   "id": "f5dd0657",
   "metadata": {},
   "outputs": [],
   "source": [
    "olympic_cities[2008] = 'Beijing'"
   ]
  },
  {
   "cell_type": "code",
   "execution_count": 120,
   "id": "cc29077e",
   "metadata": {},
   "outputs": [
    {
     "data": {
      "text/plain": [
       "{2020: 'Tokyo', 2016: 'Rio de Janiero', 2012: 'London', 2008: 'Beijing'}"
      ]
     },
     "execution_count": 120,
     "metadata": {},
     "output_type": "execute_result"
    }
   ],
   "source": [
    "olympic_cities"
   ]
  },
  {
   "cell_type": "code",
   "execution_count": 121,
   "id": "12fd8c64",
   "metadata": {},
   "outputs": [
    {
     "data": {
      "text/plain": [
       "{'summer': {2020: 'Tokyo',\n",
       "  2016: 'Rio de Janiero',\n",
       "  2012: 'London',\n",
       "  2008: 'Beijing'},\n",
       " 'winter': {2022: 'Beijing', 2018: 'Pyeongchang'}}"
      ]
     },
     "execution_count": 121,
     "metadata": {},
     "output_type": "execute_result"
    }
   ],
   "source": [
    "all_olympic_hosts"
   ]
  },
  {
   "cell_type": "code",
   "execution_count": 122,
   "id": "b3e7fded",
   "metadata": {},
   "outputs": [
    {
     "data": {
      "text/plain": [
       "{2020: 'Tokyo', 2016: 'Rio de Janiero', 2012: 'London', 2008: 'Beijing'}"
      ]
     },
     "execution_count": 122,
     "metadata": {},
     "output_type": "execute_result"
    }
   ],
   "source": [
    "olympic_cities"
   ]
  },
  {
   "cell_type": "code",
   "execution_count": 123,
   "id": "a4508ead",
   "metadata": {},
   "outputs": [],
   "source": [
    "del olympic_cities[2020]"
   ]
  },
  {
   "cell_type": "code",
   "execution_count": 124,
   "id": "41359a85",
   "metadata": {},
   "outputs": [
    {
     "data": {
      "text/plain": [
       "{2016: 'Rio de Janiero', 2012: 'London', 2008: 'Beijing'}"
      ]
     },
     "execution_count": 124,
     "metadata": {},
     "output_type": "execute_result"
    }
   ],
   "source": [
    "olympic_cities"
   ]
  },
  {
   "cell_type": "code",
   "execution_count": 125,
   "id": "47417b5d",
   "metadata": {},
   "outputs": [],
   "source": [
    "olympic_cities['cities'] = ['Toronto', 'Montreal', 'Vancouver']"
   ]
  },
  {
   "cell_type": "code",
   "execution_count": 126,
   "id": "5d745a1c",
   "metadata": {},
   "outputs": [
    {
     "data": {
      "text/plain": [
       "{2016: 'Rio de Janiero',\n",
       " 2012: 'London',\n",
       " 2008: 'Beijing',\n",
       " 'cities': ['Toronto', 'Montreal', 'Vancouver']}"
      ]
     },
     "execution_count": 126,
     "metadata": {},
     "output_type": "execute_result"
    }
   ],
   "source": [
    "olympic_cities"
   ]
  },
  {
   "cell_type": "code",
   "execution_count": 127,
   "id": "5d683928",
   "metadata": {},
   "outputs": [
    {
     "data": {
      "text/plain": [
       "{'summer': {2016: 'Rio de Janiero',\n",
       "  2012: 'London',\n",
       "  2008: 'Beijing',\n",
       "  'cities': ['Toronto', 'Montreal', 'Vancouver']},\n",
       " 'winter': {2022: 'Beijing', 2018: 'Pyeongchang'}}"
      ]
     },
     "execution_count": 127,
     "metadata": {},
     "output_type": "execute_result"
    }
   ],
   "source": [
    "all_olympic_hosts"
   ]
  },
  {
   "cell_type": "code",
   "execution_count": 128,
   "id": "e14b1fe2",
   "metadata": {},
   "outputs": [
    {
     "data": {
      "text/plain": [
       "dict_keys(['summer', 'winter'])"
      ]
     },
     "execution_count": 128,
     "metadata": {},
     "output_type": "execute_result"
    }
   ],
   "source": [
    "all_olympic_hosts.keys()"
   ]
  },
  {
   "cell_type": "code",
   "execution_count": 129,
   "id": "17daf50b",
   "metadata": {},
   "outputs": [
    {
     "data": {
      "text/plain": [
       "dict_values([{2016: 'Rio de Janiero', 2012: 'London', 2008: 'Beijing', 'cities': ['Toronto', 'Montreal', 'Vancouver']}, {2022: 'Beijing', 2018: 'Pyeongchang'}])"
      ]
     },
     "execution_count": 129,
     "metadata": {},
     "output_type": "execute_result"
    }
   ],
   "source": [
    "all_olympic_hosts.values()"
   ]
  },
  {
   "cell_type": "code",
   "execution_count": 130,
   "id": "5455f919",
   "metadata": {},
   "outputs": [
    {
     "data": {
      "text/plain": [
       "dict_items([('summer', {2016: 'Rio de Janiero', 2012: 'London', 2008: 'Beijing', 'cities': ['Toronto', 'Montreal', 'Vancouver']}), ('winter', {2022: 'Beijing', 2018: 'Pyeongchang'})])"
      ]
     },
     "execution_count": 130,
     "metadata": {},
     "output_type": "execute_result"
    }
   ],
   "source": [
    "all_olympic_hosts.items()"
   ]
  },
  {
   "cell_type": "code",
   "execution_count": null,
   "id": "b744a097",
   "metadata": {},
   "outputs": [
    {
     "name": "stdout",
     "output_type": "stream",
     "text": [
      "monday\n",
      "hi\n",
      "tuesday\n",
      "hi\n",
      "wednesday\n",
      "hi\n",
      "thurday\n",
      "hi\n"
     ]
    }
   ],
   "source": [
    "# for loops\n",
    "# run an indented block of code for every item in an iterable\n",
    "\n",
    "for i in ['monday', 'tuesday', 'wednesday', 'thurday']: # i = 'tuesday'\n",
    "    print(i)\n",
    "    print('hi')"
   ]
  },
  {
   "cell_type": "code",
   "execution_count": null,
   "id": "9be7ac0e",
   "metadata": {},
   "outputs": [
    {
     "name": "stdout",
     "output_type": "stream",
     "text": [
      "1\n",
      "2\n",
      "3\n",
      "4\n",
      "5\n"
     ]
    }
   ],
   "source": [
    "for number in {1, 2, 3, 4, 5}: # number = 5\n",
    "    print(number)"
   ]
  },
  {
   "cell_type": "code",
   "execution_count": 134,
   "id": "40b87729",
   "metadata": {},
   "outputs": [
    {
     "data": {
      "text/plain": [
       "{1, 2, 3, 4, 5}"
      ]
     },
     "execution_count": 134,
     "metadata": {},
     "output_type": "execute_result"
    }
   ],
   "source": [
    "{1, 2, 3, 4, 5}"
   ]
  },
  {
   "cell_type": "code",
   "execution_count": 137,
   "id": "e76f243d",
   "metadata": {},
   "outputs": [],
   "source": [
    "items = {'cat', 'apple', 'dog'}"
   ]
  },
  {
   "cell_type": "code",
   "execution_count": 140,
   "id": "5b1ac9f9",
   "metadata": {},
   "outputs": [
    {
     "data": {
      "text/plain": [
       "{'apple', 'cat', 'dog'}"
      ]
     },
     "execution_count": 140,
     "metadata": {},
     "output_type": "execute_result"
    }
   ],
   "source": [
    "items"
   ]
  },
  {
   "cell_type": "code",
   "execution_count": 143,
   "id": "97612b41",
   "metadata": {},
   "outputs": [
    {
     "name": "stdout",
     "output_type": "stream",
     "text": [
      "cat\n",
      "apple\n",
      "dog\n"
     ]
    }
   ],
   "source": [
    "for item in ['cat', 'apple', 'dog']:\n",
    "    print(item)"
   ]
  },
  {
   "cell_type": "code",
   "execution_count": null,
   "id": "b7757584",
   "metadata": {},
   "outputs": [
    {
     "name": "stdout",
     "output_type": "stream",
     "text": [
      "0 0\n",
      "1 2\n",
      "2 4\n",
      "3 6\n",
      "4 8\n",
      "5 10\n",
      "6 12\n"
     ]
    }
   ],
   "source": [
    "for i in range(7): # i = 3\n",
    "    print(i, i*2)"
   ]
  },
  {
   "cell_type": "code",
   "execution_count": null,
   "id": "5f01d789",
   "metadata": {},
   "outputs": [
    {
     "name": "stdout",
     "output_type": "stream",
     "text": [
      "2\n",
      "3\n",
      "4\n",
      "5\n"
     ]
    }
   ],
   "source": [
    "for i in range(2,6): # start at 2, up to but not including 6\n",
    "    print(i)"
   ]
  },
  {
   "cell_type": "code",
   "execution_count": null,
   "id": "3f0d5897",
   "metadata": {},
   "outputs": [
    {
     "data": {
      "text/plain": [
       "['data_01.xlsx', 'data_02.xlsx', 'data_03.xlsx']"
      ]
     },
     "execution_count": 146,
     "metadata": {},
     "output_type": "execute_result"
    }
   ],
   "source": [
    "input_files = ['data_01.csv', 'data_02.csv', 'data_03.csv']\n",
    "output_files = []\n",
    "\n",
    "for i in input_files: # i = 'data_03.csv'\n",
    "    output_file_name = i.replace('.csv', '.xlsx') # output_file_name = 'data_03.xlsx'\n",
    "    output_files.append(output_file_name) # output_files = ['data_01.xlsx', 'data_02.xlsx, 'data_03.xlsx']\n",
    "\n",
    "output_files"
   ]
  },
  {
   "cell_type": "code",
   "execution_count": null,
   "id": "ef31a68b",
   "metadata": {},
   "outputs": [
    {
     "name": "stdout",
     "output_type": "stream",
     "text": [
      "0 sandwich\n",
      "1 veggies\n",
      "2 fruit\n"
     ]
    }
   ],
   "source": [
    "for idx, food in enumerate(['sandwich', 'veggies', 'fruit']): # idx = 2, food = 'fruit'\n",
    "    print(idx, food)"
   ]
  }
 ],
 "metadata": {
  "kernelspec": {
   "display_name": "python-env",
   "language": "python",
   "name": "python3"
  },
  "language_info": {
   "codemirror_mode": {
    "name": "ipython",
    "version": 3
   },
   "file_extension": ".py",
   "mimetype": "text/x-python",
   "name": "python",
   "nbconvert_exporter": "python",
   "pygments_lexer": "ipython3",
   "version": "3.11.13"
  }
 },
 "nbformat": 4,
 "nbformat_minor": 5
}
